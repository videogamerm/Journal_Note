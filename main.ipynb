{
 "metadata": {
  "language_info": {
   "codemirror_mode": {
    "name": "ipython",
    "version": 3
   },
   "file_extension": ".py",
   "mimetype": "text/x-python",
   "name": "python",
   "nbconvert_exporter": "python",
   "pygments_lexer": "ipython3",
   "version": "3.8.6-final"
  },
  "orig_nbformat": 2,
  "kernelspec": {
   "name": "python3",
   "display_name": "Python 3.8.6 64-bit",
   "metadata": {
    "interpreter": {
     "hash": "31f2aee4e71d21fbe5cf8b01ff0e069b9275f58929596ceb00d14d90e3e16cd6"
    }
   }
  }
 },
 "nbformat": 4,
 "nbformat_minor": 2,
 "cells": [
  {
   "source": [
    "import datetime\n",
    "import os\n",
    "from pygame import mixer \n",
    "import time\n",
    "\n",
    "\n",
    "\n",
    "now = datetime.datetime.now()\n",
    "fmt = \"%Y-%m-%d-%H\"\n",
    "\n",
    "\n",
    "def readr():\n",
    "    os.system(\"ls notes/*.txt\")\n",
    "    File = input(\"Type your file from the list above \")\n",
    "    text = open( File, \"r\")\n",
    "    print(text.read())\n",
    "\n",
    "\n",
    "    start = input(\"Type s to start a new entry, r to read, or c to stop.\")\n",
    "\n",
    "\n",
    "\n",
    "    if start == \"s\" :\n",
    "        name = input(\"name\")\n",
    "        os.system(\"cd notes&&touch \"+ name)\n",
    "        Code = open( \"notes/\" + name, \"w\")\n",
    "        Entry = input(\"Type  your Entry. \")\n",
    "        Code.write (str(Entry))\n",
    "        Code.close()\n",
    "    if start == \"r\":\n",
    "        readr()\n",
    "    \n",
    "    if start == \"c\":\n",
    "        exit(\"You Quit!\")\n"
   ],
   "cell_type": "code",
   "metadata": {},
   "execution_count": 14,
   "outputs": []
  },
  {
   "cell_type": "code",
   "execution_count": null,
   "metadata": {},
   "outputs": [],
   "source": []
  }
 ]
}